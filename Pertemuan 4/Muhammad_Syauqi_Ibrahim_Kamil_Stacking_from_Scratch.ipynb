{
  "cells": [
    {
      "cell_type": "markdown",
      "id": "8f5448fb",
      "metadata": {
        "id": "8f5448fb",
        "papermill": {
          "duration": 0.014281,
          "end_time": "2024-06-29T05:06:57.857497",
          "exception": false,
          "start_time": "2024-06-29T05:06:57.843216",
          "status": "completed"
        },
        "tags": []
      },
      "source": [
        "# **Stacking from scratch**\n",
        "\n",
        "Berikan penjelasan terkait Stacking!\n",
        "\n",
        "**Stacking** adalah membuat model baru yang belajar dari kesalahan dan kekuatan model-model lain untuk membuat keputusan yang lebih baik\n",
        "\n",
        "Source : https://www.geeksforgeeks.org/machine-learning/stacking-in-machine-learning/\n",
        "Youtube : https://www.youtube.com/watch?v=a4IS1Ai7GCI"
      ]
    },
    {
      "cell_type": "code",
      "execution_count": 12,
      "id": "1586bc8f",
      "metadata": {
        "execution": {
          "iopub.execute_input": "2024-06-29T05:06:57.888286Z",
          "iopub.status.busy": "2024-06-29T05:06:57.887851Z",
          "iopub.status.idle": "2024-06-29T05:07:00.846336Z",
          "shell.execute_reply": "2024-06-29T05:07:00.845160Z"
        },
        "id": "1586bc8f",
        "papermill": {
          "duration": 2.977168,
          "end_time": "2024-06-29T05:07:00.849030",
          "exception": false,
          "start_time": "2024-06-29T05:06:57.871862",
          "status": "completed"
        },
        "tags": []
      },
      "outputs": [],
      "source": [
        "# Import Libraries\n",
        "import pandas as pd\n",
        "import numpy as np\n",
        "import matplotlib.pyplot as plt\n",
        "from sklearn.ensemble import StackingClassifier\n",
        "from sklearn.model_selection import train_test_split\n",
        "from sklearn.preprocessing import StandardScaler\n",
        "from sklearn.linear_model import LogisticRegression\n",
        "from sklearn.neighbors import KNeighborsClassifier\n",
        "from sklearn.naive_bayes import GaussianNB\n",
        "from sklearn.tree import DecisionTreeClassifier\n",
        "from sklearn.metrics import accuracy_score"
      ]
    },
    {
      "cell_type": "markdown",
      "source": [
        "**Pendefinisian class stack**\n",
        "\n",
        "Bertujuan untuk membuat kerangka kerja ensemble learning berbasis stacking dan blending secara modular dan fleksibel. Class ini memungkinkan pengguna untuk menggabungkan beberapa model dasar (base learners) dan satu model meta (final estimator) untuk menghasilkan prediksi akhir yang lebih akurat. Dengan mengatur parameter seperti metode cross-validation, penggunaan blending, serta paralelisasi proses, class ini memberikan kontrol penuh kepada pengguna dalam menerapkan teknik stacking sesuai kebutuhan. Kegunaan utamanya adalah sebagai alat bantu untuk mengimplementasikan ensemble model dari nol (from scratch) tanpa tergantung pada fungsi otomatis dari pustaka seperti scikit-learn, sehingga cocok untuk pembelajaran konsep maupun eksperimen lanjutan dalam machine learning."
      ],
      "metadata": {
        "id": "xl_ZCQOqltFo"
      },
      "id": "xl_ZCQOqltFo"
    },
    {
      "cell_type": "markdown",
      "source": [
        "Buat class bernama Stack yang berisi <br>\n",
        "\n",
        "Attribute:\n",
        "\n",
        "\n",
        "Method:\n"
      ],
      "metadata": {
        "id": "_hxe6ClnA8_o"
      },
      "id": "_hxe6ClnA8_o"
    },
    {
      "cell_type": "code",
      "execution_count": 3,
      "id": "436db242",
      "metadata": {
        "execution": {
          "iopub.execute_input": "2024-06-29T05:07:00.881581Z",
          "iopub.status.busy": "2024-06-29T05:07:00.880255Z",
          "iopub.status.idle": "2024-06-29T05:07:00.897475Z",
          "shell.execute_reply": "2024-06-29T05:07:00.896334Z"
        },
        "id": "436db242",
        "papermill": {
          "duration": 0.036178,
          "end_time": "2024-06-29T05:07:00.900303",
          "exception": false,
          "start_time": "2024-06-29T05:07:00.864125",
          "status": "completed"
        },
        "tags": [],
        "colab": {
          "base_uri": "https://localhost:8080/"
        },
        "outputId": "6f7fdd63-320a-4074-f966-341cf99041b6"
      },
      "outputs": [
        {
          "output_type": "stream",
          "name": "stdout",
          "text": [
            "2\n",
            "2\n",
            "1\n",
            "1\n",
            "False\n"
          ]
        }
      ],
      "source": [
        "# Definisikan class stack\n",
        "class Stack(object):\n",
        "\n",
        "  def __init__(self):\n",
        "        self.item = []\n",
        "  def push(self, item = ''):\n",
        "\n",
        "        \"\"\"\n",
        "\n",
        "        :param item: Accepts item as Parameter\n",
        "        :return: None\n",
        "        \"\"\"\n",
        "        self.item.append(item)\n",
        "        pass\n",
        "\n",
        "  def pop(self):\n",
        "        \"\"\"\n",
        "        This will remove Last item\n",
        "        :return: None\n",
        "        \"\"\"\n",
        "        self.item.pop()\n",
        "        pass\n",
        "\n",
        "  def peek(self):\n",
        "        \"\"\"\n",
        "        Allows us to see the Last elements\n",
        "        :return: Last item\n",
        "        \"\"\"\n",
        "        if self.item:\n",
        "            return self.item[-1]\n",
        "        else:\n",
        "            return None\n",
        "\n",
        "  def size(self):\n",
        "        if self.item:\n",
        "            return len(self.item)\n",
        "        else:\n",
        "            return None\n",
        "\n",
        "  def isempty(self):\n",
        "\n",
        "        \"\"\"\n",
        "        tells Whether the stack is Empty or not\n",
        "        :return: Bool Value\n",
        "        \"\"\"\n",
        "        if self.item == []:\n",
        "            return True\n",
        "        else:\n",
        "            return False\n",
        "\n",
        "if __name__ == \"__main__\":\n",
        "    stack = Stack()\n",
        "\n",
        "    stack.push(\"1\")\n",
        "    stack.push('2')\n",
        "    print(stack.size())\n",
        "    print(stack.peek())\n",
        "\n",
        "\n",
        "    stack.pop()\n",
        "    print(stack.size())\n",
        "    print(stack.peek())\n",
        "\n",
        "    print(stack.isempty())"
      ]
    },
    {
      "cell_type": "markdown",
      "id": "1cf6ff9c",
      "metadata": {
        "id": "1cf6ff9c",
        "papermill": {
          "duration": 0.014463,
          "end_time": "2024-06-29T05:07:00.969581",
          "exception": false,
          "start_time": "2024-06-29T05:07:00.955118",
          "status": "completed"
        },
        "tags": []
      },
      "source": [
        "### **Upload datasets**"
      ]
    },
    {
      "cell_type": "code",
      "source": [
        "# Load dataset iris dari sklearn\n",
        "from sklearn.datasets import load_iris\n",
        "iris = load_iris(as_frame=True)\n",
        "glass_df = iris.frame\n",
        "\n",
        "# Pisahkan fitur dan target\n",
        "X1 = glass_df.drop(columns=['target'])\n",
        "y1 = glass_df['target']\n",
        "\n",
        "# Encode target (optional, untuk case multiclass stacking)\n",
        "\n",
        "# Split data menjadi train dan test\n",
        "X1_train, X1_test, y1_train, y1_test = train_test_split(X1, y1, random_state=0)"
      ],
      "metadata": {
        "id": "n5A865GHEqpX"
      },
      "id": "n5A865GHEqpX",
      "execution_count": 4,
      "outputs": []
    },
    {
      "cell_type": "markdown",
      "id": "f91c4f4f",
      "metadata": {
        "id": "f91c4f4f",
        "papermill": {
          "duration": 0.014633,
          "end_time": "2024-06-29T05:07:01.153943",
          "exception": false,
          "start_time": "2024-06-29T05:07:01.139310",
          "status": "completed"
        },
        "tags": []
      },
      "source": [
        "# **Model training and evaluation of the obtained results**\n",
        "Both in the case of classification and regression, stacking and blending showed the same and not the best results. As a rule, this situation occurs for two reasons: given that metadata is based on predictions of basic models, the presence of weak basic models can reduce the accuracy of stronger ones which will reduce the final prediction as a whole. Also a small amount of training data often leads to overfitting which in turn reduces the accuracy of predictions.\n",
        "\n",
        "In this case the problem can be partially solved by setting stack_method='predict_proba' when each basic classifier outputs class membership probabilities instead of the classes themselves which can help increase accuracy in the case of non-mutually exclusive classes. Also this method works better with noise in the data. As you can see this method has significantly increased the accuracy of the model. With the right selection of models and hyperparameters the accuracy will be even higher.\n",
        "\n",
        "Most often stacking shows slightly better results than blending due to the use of k-fold cross-validation but usually the difference is noticeable only on a large amount of data."
      ]
    },
    {
      "cell_type": "code",
      "execution_count": 13,
      "id": "bf39fc7e",
      "metadata": {
        "execution": {
          "iopub.execute_input": "2024-06-29T05:07:01.215267Z",
          "iopub.status.busy": "2024-06-29T05:07:01.214854Z",
          "iopub.status.idle": "2024-06-29T05:07:10.093042Z",
          "shell.execute_reply": "2024-06-29T05:07:10.091587Z"
        },
        "id": "bf39fc7e",
        "papermill": {
          "duration": 8.8971,
          "end_time": "2024-06-29T05:07:10.095743",
          "exception": false,
          "start_time": "2024-06-29T05:07:01.198643",
          "status": "completed"
        },
        "tags": []
      },
      "outputs": [],
      "source": [
        "# StackingClassifier dan Blending Classifier\n",
        "base_estimators = [\n",
        "    ('knn', KNeighborsClassifier(n_neighbors=5)),\n",
        "    ('dt', DecisionTreeClassifier(max_depth=4, random_state=42)),\n",
        "    ('lr', LogisticRegression(solver='lbfgs', multi_class='auto', random_state=42))\n",
        "]\n",
        "\n",
        "meta_estimator = LogisticRegression(solver='lbfgs', multi_class='auto', random_state=42)\n",
        "\n",
        "stacking_model_proba = StackingClassifier(\n",
        "    estimators=base_estimators,       # ✅ tanpa underscore\n",
        "    final_estimator=meta_estimator,\n",
        "    cv=5,\n",
        "    stack_method='predict_proba',\n",
        "    n_jobs=-1\n",
        ")\n"
      ]
    },
    {
      "cell_type": "markdown",
      "id": "f044880e",
      "metadata": {
        "id": "f044880e",
        "papermill": {
          "duration": 0.014779,
          "end_time": "2024-06-29T05:07:10.125840",
          "exception": false,
          "start_time": "2024-06-29T05:07:10.111061",
          "status": "completed"
        },
        "tags": []
      },
      "source": [
        "**StackingClassifier (scikit-learn)**\n",
        "\n",
        "\n",
        "* Merupakan implementasi resmi stacking untuk klasifikasi dalam scikit-learn.\n",
        "\n",
        "* Mempermudah proses ensemble dengan base learners dan final estimator (meta learner) dalam satu objek.\n",
        "\n",
        "* Sudah menangani cross-validation secara internal sehingga mengurangi risiko data leakage.\n",
        "\n",
        "* Mendukung parameter passthrough=True jika ingin menggabungkan fitur asli dengan meta-features.\n",
        "\n",
        "* Cocok untuk digunakan dalam pipeline dan produksi karena stabil dan teruji."
      ]
    },
    {
      "cell_type": "code",
      "execution_count": 22,
      "id": "11437b8a",
      "metadata": {
        "execution": {
          "iopub.execute_input": "2024-06-29T05:07:10.158872Z",
          "iopub.status.busy": "2024-06-29T05:07:10.157857Z",
          "iopub.status.idle": "2024-06-29T05:07:58.751416Z",
          "shell.execute_reply": "2024-06-29T05:07:58.749955Z"
        },
        "id": "11437b8a",
        "papermill": {
          "duration": 48.613356,
          "end_time": "2024-06-29T05:07:58.754310",
          "exception": false,
          "start_time": "2024-06-29T05:07:10.140954",
          "status": "completed"
        },
        "tags": [],
        "colab": {
          "base_uri": "https://localhost:8080/"
        },
        "outputId": "8393f927-1574-409a-cb87-552cd9d71255"
      },
      "outputs": [
        {
          "output_type": "stream",
          "name": "stdout",
          "text": [
            "(1) stack_method = 'auto'\n",
            "Mean CV Accuracy: 0.9462\n",
            "(2) stack_method = 'predict_proba'\n",
            "Mean CV Accuracy: 0.9462\n",
            "(3) stack_method = 'predict'\n",
            "Mean CV Accuracy: 0.9549\n",
            "\n",
            "Data Test Accuracy: 0.9736842105263158\n"
          ]
        }
      ],
      "source": [
        "# StackingClassifier (scikit-learn)\n",
        "from sklearn.model_selection import train_test_split, cross_val_score\n",
        "from sklearn.ensemble import StackingClassifier\n",
        "from sklearn.neighbors import KNeighborsClassifier\n",
        "from sklearn.tree import DecisionTreeClassifier\n",
        "from sklearn.linear_model import LogisticRegression\n",
        "# sk_estimators\n",
        "sk_estimators = [\n",
        "    ('knn', KNeighborsClassifier(n_neighbors=5)),\n",
        "    ('dt', DecisionTreeClassifier(max_depth=4, random_state=42)),\n",
        "    ('lr', LogisticRegression(solver='lbfgs',  random_state=42))\n",
        "]\n",
        "\n",
        "meta_estimator = LogisticRegression(solver='lbfgs',  random_state=42)\n",
        "\n",
        "# stack_methods\n",
        "stack_methods = ['auto', 'predict_proba', 'predict']\n",
        "\n",
        "\n",
        "for i, method in enumerate(stack_methods):\n",
        "  print(f\"({i+1}) stack_method = '{method}'\")\n",
        "\n",
        "  stacking_model = StackingClassifier(\n",
        "        estimators=sk_estimators,\n",
        "        final_estimator=meta_estimator,\n",
        "        cv=5,\n",
        "        stack_method=method,\n",
        "        n_jobs=-1\n",
        "    )\n",
        "\n",
        "  scores = cross_val_score(stacking_model, X1_train, y1_train, cv=5, scoring='accuracy')\n",
        "  print(f\"Mean CV Accuracy: {np.mean(scores):.4f}\")\n",
        "\n",
        "# model terbaik (opsional)\n",
        "best_model = StackingClassifier(\n",
        "    estimators=sk_estimators,\n",
        "    final_estimator=meta_estimator,\n",
        "    cv=5,\n",
        "    stack_method='predict_proba',\n",
        "    n_jobs=-1\n",
        ")\n",
        "\n",
        "best_model.fit(X1_train, y1_train)\n",
        "print(\"\\nData Test Accuracy:\", best_model.score(X1_test, y1_test))"
      ]
    }
  ],
  "metadata": {
    "colab": {
      "provenance": []
    },
    "kaggle": {
      "accelerator": "none",
      "dataSources": [
        {
          "datasetId": 738,
          "sourceId": 1370,
          "sourceType": "datasetVersion"
        }
      ],
      "dockerImageVersionId": 30664,
      "isGpuEnabled": false,
      "isInternetEnabled": true,
      "language": "python",
      "sourceType": "notebook"
    },
    "kernelspec": {
      "display_name": "Python 3",
      "language": "python",
      "name": "python3"
    },
    "language_info": {
      "codemirror_mode": {
        "name": "ipython",
        "version": 3
      },
      "file_extension": ".py",
      "mimetype": "text/x-python",
      "name": "python",
      "nbconvert_exporter": "python",
      "pygments_lexer": "ipython3",
      "version": "3.10.13"
    },
    "papermill": {
      "default_parameters": {},
      "duration": 71.638912,
      "end_time": "2024-06-29T05:08:06.086780",
      "environment_variables": {},
      "exception": null,
      "input_path": "__notebook__.ipynb",
      "output_path": "__notebook__.ipynb",
      "parameters": {},
      "start_time": "2024-06-29T05:06:54.447868",
      "version": "2.5.0"
    }
  },
  "nbformat": 4,
  "nbformat_minor": 5
}